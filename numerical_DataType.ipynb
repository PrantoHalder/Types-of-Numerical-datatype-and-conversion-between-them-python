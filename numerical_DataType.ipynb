{
  "nbformat": 4,
  "nbformat_minor": 0,
  "metadata": {
    "colab": {
      "provenance": [],
      "authorship_tag": "ABX9TyN5P4IhYPvGu2ZSKmdtPrm+",
      "include_colab_link": true
    },
    "kernelspec": {
      "name": "python3",
      "display_name": "Python 3"
    },
    "language_info": {
      "name": "python"
    }
  },
  "cells": [
    {
      "cell_type": "markdown",
      "metadata": {
        "id": "view-in-github",
        "colab_type": "text"
      },
      "source": [
        "<a href=\"https://colab.research.google.com/github/PrantoHalder/Types-of-Numerical-datatype-and-conversion-between-them/blob/main/numerical_DataType.ipynb\" target=\"_parent\"><img src=\"https://colab.research.google.com/assets/colab-badge.svg\" alt=\"Open In Colab\"/></a>"
      ]
    },
    {
      "cell_type": "code",
      "execution_count": null,
      "metadata": {
        "id": "hxl1bTqZ4-Xt"
      },
      "outputs": [],
      "source": [
        "#input data\n",
        "x=10\n",
        "y=10.5\n",
        "z=10+5j"
      ]
    },
    {
      "cell_type": "code",
      "source": [
        "#type of x\n",
        "print(type(x))\n",
        "#another way\n",
        "print(isinstance(x,int)) # give answer in true and false\n"
      ],
      "metadata": {
        "colab": {
          "base_uri": "https://localhost:8080/"
        },
        "id": "7rGimWiv5U8Q",
        "outputId": "8f84a4da-d66f-448e-d647-621fa2e8a63b"
      },
      "execution_count": null,
      "outputs": [
        {
          "output_type": "stream",
          "name": "stdout",
          "text": [
            "<class 'int'>\n",
            "True\n"
          ]
        }
      ]
    },
    {
      "cell_type": "code",
      "source": [
        "#type of y\n",
        "print(type(y))\n",
        "#another way\n",
        "print(isinstance(y,float)) # give answer in true and false"
      ],
      "metadata": {
        "colab": {
          "base_uri": "https://localhost:8080/"
        },
        "id": "Nb-M5_De5oen",
        "outputId": "4dd6af49-7bf4-44ff-a265-a0250cf840e2"
      },
      "execution_count": null,
      "outputs": [
        {
          "output_type": "stream",
          "name": "stdout",
          "text": [
            "<class 'float'>\n",
            "True\n"
          ]
        }
      ]
    },
    {
      "cell_type": "code",
      "source": [
        "#type of z\n",
        "print(type(z))\n",
        "#another way\n",
        "print(isinstance(z,complex)) # give answer in true and false"
      ],
      "metadata": {
        "colab": {
          "base_uri": "https://localhost:8080/"
        },
        "id": "j2WfYysA6CmP",
        "outputId": "b1f20d71-8348-444a-94c7-fc17be0400a5"
      },
      "execution_count": null,
      "outputs": [
        {
          "output_type": "stream",
          "name": "stdout",
          "text": [
            "<class 'complex'>\n",
            "True\n"
          ]
        }
      ]
    },
    {
      "cell_type": "code",
      "source": [
        "#conversion for int to float\n",
        "n=float(x)\n",
        "print(n)"
      ],
      "metadata": {
        "colab": {
          "base_uri": "https://localhost:8080/"
        },
        "id": "VSYk8BPF6KDu",
        "outputId": "615a3a49-f7a0-4dac-f07a-a820f715b486"
      },
      "execution_count": null,
      "outputs": [
        {
          "output_type": "stream",
          "name": "stdout",
          "text": [
            "10.0\n"
          ]
        }
      ]
    },
    {
      "cell_type": "code",
      "source": [
        "#conversion for float to int\n",
        "p=int(y)\n",
        "print(p)"
      ],
      "metadata": {
        "colab": {
          "base_uri": "https://localhost:8080/"
        },
        "id": "s4svu7Df6TYo",
        "outputId": "243d4b91-c682-4667-ebe9-bb18ede8db2c"
      },
      "execution_count": null,
      "outputs": [
        {
          "output_type": "stream",
          "name": "stdout",
          "text": [
            "10\n"
          ]
        }
      ]
    },
    {
      "cell_type": "code",
      "source": [
        "#conversion for float to cpmplex\n",
        "k=complex(y)\n",
        "print(k)"
      ],
      "metadata": {
        "colab": {
          "base_uri": "https://localhost:8080/"
        },
        "id": "tPUW8tL96h-g",
        "outputId": "f705bbd7-63c8-4e91-d387-df009c309dac"
      },
      "execution_count": null,
      "outputs": [
        {
          "output_type": "stream",
          "name": "stdout",
          "text": [
            "(10.5+0j)\n"
          ]
        }
      ]
    },
    {
      "cell_type": "code",
      "source": [
        "#conversion for int to complex\n",
        "s=complex(x)\n",
        "print(s)"
      ],
      "metadata": {
        "colab": {
          "base_uri": "https://localhost:8080/"
        },
        "id": "iVYOQLU66iEm",
        "outputId": "b42bc57b-8aae-43af-a49d-f694a9339884"
      },
      "execution_count": null,
      "outputs": [
        {
          "output_type": "stream",
          "name": "stdout",
          "text": [
            "(10+0j)\n"
          ]
        }
      ]
    },
    {
      "cell_type": "code",
      "source": [
        "#it is impossible to conver complex to int and float"
      ],
      "metadata": {
        "id": "HcsQGAfK64Ch"
      },
      "execution_count": null,
      "outputs": []
    }
  ]
}